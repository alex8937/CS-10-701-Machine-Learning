{
 "cells": [
  {
   "cell_type": "markdown",
   "metadata": {},
   "source": [
    "# 1    Probability Review and Bayesian Spam Filter"
   ]
  },
  {
   "cell_type": "markdown",
   "metadata": {},
   "source": [
    "## 1.1 Independence\n",
    "\n",
    "If random variables X and Y are discrete,\n",
    "\n",
    "\n",
    "$$\\begin{array}{l}\n",
    "E\\left[ {XY} \\right] &= \\sum\\limits_{X = x} {\\sum\\limits_{Y = y} {xyP\\left( {X = x,Y = y} \\right)} } \\\\\n",
    "{\\rm{           }} &= \\sum\\limits_{X = x} {\\sum\\limits_{Y = y} {xyP\\left( {X = x} \\right)} } P\\left( {Y = y} \\right)\\\\\n",
    "{\\rm{           }} &= \\sum\\limits_{X = x} {xP\\left( {X = x} \\right)} \\sum\\limits_{Y = y} {yP\\left( {Y = y} \\right)} \\\\\n",
    "{\\rm{           }} &= E\\left[ X \\right]E\\left[ Y \\right]\n",
    "\\end{array}$$\n",
    "\n",
    "If random variables X and Y are continuous,\n",
    "\n",
    "$$\\begin{array}{l}\n",
    "E\\left[ {XY} \\right] &= \\int_{ - \\infty }^{ + \\infty } {\\int_{ - \\infty }^{ + \\infty } {xyf\\left( {X = x,Y = y} \\right)} } dxdy\\\\\n",
    "{\\rm{           }} &= \\int_{ - \\infty }^{ + \\infty } {\\int_{ - \\infty }^{ + \\infty } {xyf\\left( {X = x} \\right)f\\left( {Y = y} \\right)} } dxdy\\\\\n",
    "{\\rm{           }} &= \\int_{ - \\infty }^{ + \\infty } {xf\\left( {X = x} \\right)} dx\\int_{ - \\infty }^{ + \\infty } {yf\\left( {Y = y} \\right)dy} \\\\\n",
    "{\\rm{           }} &= E\\left[ X \\right]E\\left[ Y \\right]\n",
    "\\end{array}$$"
   ]
  },
  {
   "cell_type": "markdown",
   "metadata": {},
   "source": [
    "## 1.2 Spam filtering equation\n",
    "\n",
    "Using Bayes' Rule,\n",
    "\n",
    "$$\\begin{array}{l}\n",
    "\\Pr \\left( {S|W} \\right) &= \\frac{{\\Pr \\left( {S,W} \\right)}}{{\\Pr \\left( W \\right)}}\\\\\n",
    " &= \\frac{{\\Pr \\left( {W|S} \\right)\\Pr \\left( S \\right)}}{{\\Pr \\left( W \\right)}}\\\\\n",
    " &= \\frac{{\\Pr \\left( {W|S} \\right)\\Pr \\left( S \\right)}}{{\\Pr \\left( {W|H} \\right)\\Pr \\left( H \\right) + \\Pr \\left( {W|S} \\right)\\Pr \\left( S \\right)}}\n",
    "\\end{array}$$"
   ]
  },
  {
   "cell_type": "markdown",
   "metadata": {},
   "source": [
    "## 1.3 I.I.D. assumption in spam filters\n",
    "\n",
    "1. Words in different type of mail may behave differently in distribution\n",
    "2. The correlation between words are not considered: word order, syntax structure and etc."
   ]
  },
  {
   "cell_type": "markdown",
   "metadata": {},
   "source": [
    "## 1.4 Poison the Bayesian spam filter\n",
    "\n",
    " I. Randomly add more words whose $P(H|W) >> 0.5$. \n",
    "\n",
    "> (Not working if Naive Bayes Classifier keeps focus on the fact of only large $P(S|W) >> 0.5$)\n",
    "\n",
    " II. Use mutant substituion of word (Like Advertisement --> Advert!sement)\n",
    "\n",
    "> (Naive Bayes Classifier will find out Advertisement ~ Advert!sement eventually)\n",
    "\n",
    " III. Instead of using words, send spam in terms of graph.\n"
   ]
  },
  {
   "cell_type": "markdown",
   "metadata": {},
   "source": [
    "# 2 Regression"
   ]
  },
  {
   "cell_type": "markdown",
   "metadata": {},
   "source": [
    "## 2.1 Linear Regression: MLE and Least Squares"
   ]
  },
  {
   "cell_type": "markdown",
   "metadata": {},
   "source": [
    "### 1\n",
    "\n",
    "Given $\\epsilon_i \\sim \\mathcal{N}(0, \\sigma^2)$, we have\n",
    "\n",
    "$$\\Pr \\left( {{\\varepsilon _i}} \\right) = \\frac{1}{{\\sqrt {2\\pi } \\sigma }}\\exp ( - \\frac{{{\\varepsilon _i}^2}}{{2{\\sigma ^2}}})$$\n",
    "\n",
    "Having ${\\varepsilon _i} = {Y_i} - \\left\\langle {{X_i},w} \\right\\rangle  - b$, we can get\n",
    "\n",
    "$$\\Pr \\left( {{Y_i}|{X_i},w,b} \\right) = \\frac{1}{{\\sqrt {2\\pi } \\sigma }}\\exp \\left[ { - \\frac{{{{\\left( {{Y_i} - \\left\\langle {{X_i},w} \\right\\rangle  - b} \\right)}^2}}}{{2{\\sigma ^2}}}} \\right]$$"
   ]
  },
  {
   "cell_type": "markdown",
   "metadata": {},
   "source": [
    "### 2\n",
    "\n",
    "Since $$\\Pr (Y|\\beta ) = \\prod\\limits_{i = 1}^n {\\Pr ({Y_i}|\\beta )},$$\n",
    "Then\n",
    "\n",
    "\n",
    "$$\\begin{array}{l}\n",
    "\\log \\Pr (Y|\\beta ) &= \\sum\\limits_{i = 1}^n {\\log \\Pr \\left( {{Y_i}|\\beta } \\right)} \\\\\n",
    " &= \\sum\\limits_{i = 1}^n {\\log \\left\\{ {\\frac{1}{{\\sqrt {2\\pi } \\sigma }}\\exp \\left[ { - \\frac{{{{\\left( {{Y_i} - \\left\\langle {{X_i},w} \\right\\rangle  - b} \\right)}^2}}}{{2{\\sigma ^2}}}} \\right]} \\right\\}} \\\\\n",
    " &= \\sum\\limits_{i = 1}^n {\\left[ { - \\log \\left( {\\sqrt {2\\pi } \\sigma } \\right) - \\frac{{{{\\left( {{Y_i} - \\left\\langle {{X_i},w} \\right\\rangle  - b} \\right)}^2}}}{{2{\\sigma ^2}}}} \\right]} \\\\\n",
    " &=  - n\\log \\left( {\\sqrt {2\\pi } \\sigma } \\right) - \\frac{1}{{2{\\sigma ^2}}}\\sum\\limits_{i = 1}^n {{{\\left( {{Y_i} - \\left\\langle {{X_i},w} \\right\\rangle  - b} \\right)}^2}} \n",
    "\\end{array}$$\n"
   ]
  },
  {
   "cell_type": "markdown",
   "metadata": {},
   "source": [
    "### 3\n",
    "\n",
    "Maximizing $\\Pr (Y|\\beta )$ is equivalent to maximizing $\\log \\Pr (Y|\\beta )$.\n",
    "\n",
    "Observing that $- n\\log \\left( {\\sqrt {2\\pi } \\sigma } \\right)$ is a constant, we can see the problem is same as minimizing $$\\sum\\limits_{i = 1}^n {{{\\left( {{Y_i} - \\left\\langle {{X_i},w} \\right\\rangle  - b} \\right)}^2}}$$ and we have\n",
    "\n",
    "$$\\mathop {\\arg \\min }\\limits_{\\bf{\\beta }} {\\left( {{\\bf{y}} - {\\bf{X'\\beta }}} \\right)^T}\\left( {{\\bf{y}} - {\\bf{X'\\beta }}} \\right) = \\mathop {\\arg \\min }\\limits_{w,b} \\sum\\limits_{i = 1}^n {{{\\left( {{Y_i} - \\left\\langle {{X_i},w} \\right\\rangle  - b} \\right)}^2}} $$"
   ]
  },
  {
   "cell_type": "markdown",
   "metadata": {},
   "source": [
    "### 4\n",
    "\n",
    "Let \n",
    "\n",
    "$$\\begin{array}{l}\n",
    "\\sigma \\left( {\\bf{\\beta }} \\right) &= {\\left( {{\\bf{y}} - {\\bf{X'\\beta }}} \\right)^T}\\left( {{\\bf{y}} - {\\bf{X'\\beta }}} \\right)\\\\\n",
    " &= {{\\bf{y}}^T}{\\bf{y}} - {{\\bf{y}}^T}{\\bf{X'\\beta }} - {{\\bf{\\beta }}^T}{{{\\bf{X'}}}^T}{\\bf{y}} + {{\\bf{\\beta }}^T}{{{\\bf{X'}}}^T}{\\bf{X'\\beta }}\n",
    "\\end{array}$$\n",
    "\n",
    "By setting derivative to zero,\n",
    "\n",
    "$$\\frac{{\\partial \\sigma \\left( {\\bf{\\beta }} \\right)}}{{\\partial {\\bf{\\beta }}}} =  - 2{{{\\bf{X'}}}^T}{\\bf{y}} + 2{{{\\bf{X'}}}^T}{\\bf{X'\\beta }} = 0$$\n",
    "\n",
    "We have \n",
    "\n",
    "$${\\bf{\\beta }} = {\\left( {{{{\\bf{X'}}}^T}{\\bf{X'}}} \\right)^{ - 1}}{{{\\bf{X'}}}^T}{\\bf{y}}$$"
   ]
  },
  {
   "cell_type": "markdown",
   "metadata": {},
   "source": [
    "## 2.2 Nonlinear Regression and Regularization "
   ]
  },
  {
   "cell_type": "markdown",
   "metadata": {},
   "source": [
    "### 1\n",
    "\n",
    "Similar to 2.1.1, we have\n",
    "$$\\begin{array}{l}\n",
    "\\\\\n",
    "\\Pr \\left( {{Y_i}|\\phi \\left( {{X_i}} \\right),w,b} \\right) = \\frac{1}{{\\sqrt {2\\pi } \\sigma }}\\exp \\left[ { - \\frac{{{{\\left( {{Y_i} - \\left\\langle {\\phi \\left( {{X_i}} \\right),w} \\right\\rangle  - b} \\right)}^2}}}{{2{\\sigma ^2}}}} \\right]\n",
    "\\end{array}$$\n",
    "\n",
    "Thereby, the loglikelihood becomes\n",
    "\n",
    "$$\\log \\Pr (Y|\\beta ) =  - n\\log \\left( {\\sqrt {2\\pi } \\sigma } \\right) - \\frac{1}{{2{\\sigma ^2}}}\\sum\\limits_{i = 1}^n {{{\\left( {{Y_i} - \\left\\langle {\\phi \\left( {{X_i}} \\right),w} \\right\\rangle  - b} \\right)}^2}} $$\n",
    "\n",
    "So MLE is same as to maximize $${{{\\left( {{\\bf{y}} - \\phi \\left( {{\\bf{X'}}} \\right){\\bf{\\beta }}} \\right)}^T}\\left( {{\\bf{y}} - \\phi \\left( {{\\bf{X'}}} \\right){\\bf{\\beta }}} \\right)},$$ which will give $${\\bf{\\beta }} = {\\left( {\\phi {{\\left( {{\\bf{X'}}} \\right)}^T}\\phi \\left( {{\\bf{X'}}} \\right)} \\right)^{ - 1}}\\phi {\\left( {{\\bf{X'}}} \\right)^T}{\\bf{y}}$$\n"
   ]
  },
  {
   "cell_type": "markdown",
   "metadata": {},
   "source": [
    "### 2\n",
    "\n",
    "Let $$\\begin{array}{l}\n",
    "\\sigma \\left( {\\bf{\\beta }} \\right) &= {\\left( {{\\bf{y}} - \\phi \\left( {{\\bf{X'}}} \\right){\\bf{\\beta }}} \\right)^T}\\left( {{\\bf{y}} - \\phi \\left( {{\\bf{X'}}} \\right){\\bf{\\beta }}} \\right) + \\lambda {{\\bf{\\beta }}^T}{\\bf{\\beta }}\\\\\n",
    " &= {{\\bf{y}}^T}{\\bf{y}} - {{\\bf{y}}^T}\\phi \\left( {{\\bf{X'}}} \\right){\\bf{\\beta }} - {{\\bf{\\beta }}^T}\\phi {\\left( {{\\bf{X'}}} \\right)^T}{\\bf{y}} + {{\\bf{\\beta }}^T}\\phi {\\left( {{\\bf{X'}}} \\right)^T}\\phi \\left( {{\\bf{X'}}} \\right){\\bf{\\beta }} + \\lambda {{\\bf{\\beta }}^T}{\\bf{\\beta }}\n",
    "\\end{array}$$\n",
    "\n",
    "Taking the derivative and set to zero\n",
    "\n",
    "$$\\begin{array}{l}\n",
    "\\frac{{\\partial \\sigma \\left( {\\bf{\\beta }} \\right)}}{{\\partial {\\bf{\\beta }}}} &=  - 2\\phi {\\left( {{\\bf{X'}}} \\right)^T}{\\bf{y}} + 2\\phi {\\left( {{\\bf{X'}}} \\right)^T}\\phi \\left( {{\\bf{X'}}} \\right){\\bf{\\beta }} + 2\\lambda {\\bf{\\beta }}\\\\\n",
    " &= 2\\phi {\\left( {{\\bf{X'}}} \\right)^T}{\\bf{y}} + 2\\left( {\\phi {{\\left( {{\\bf{X'}}} \\right)}^T}\\phi \\left( {{\\bf{X'}}} \\right) + \\lambda {\\bf{I}}} \\right){\\bf{\\beta }}\n",
    "\\end{array}$$\n",
    "\n",
    "we can have\n",
    "\n",
    "$${\\bf{\\beta }} = {\\left( {\\phi {{\\left( {{\\bf{X'}}} \\right)}^T}\\phi \\left( {{\\bf{X'}}} \\right) + \\lambda {\\bf{I}}} \\right)^{ - 1}}\\phi {\\left( {{\\bf{X'}}} \\right)^T}{\\bf{y}}$$"
   ]
  },
  {
   "cell_type": "code",
   "execution_count": null,
   "metadata": {
    "collapsed": true
   },
   "outputs": [],
   "source": []
  },
  {
   "cell_type": "code",
   "execution_count": null,
   "metadata": {
    "collapsed": true
   },
   "outputs": [],
   "source": []
  },
  {
   "cell_type": "code",
   "execution_count": null,
   "metadata": {
    "collapsed": true
   },
   "outputs": [],
   "source": []
  }
 ],
 "metadata": {
  "kernelspec": {
   "display_name": "Python 3",
   "language": "python",
   "name": "python3"
  },
  "language_info": {
   "codemirror_mode": {
    "name": "ipython",
    "version": 3
   },
   "file_extension": ".py",
   "mimetype": "text/x-python",
   "name": "python",
   "nbconvert_exporter": "python",
   "pygments_lexer": "ipython3",
   "version": "3.6.0"
  }
 },
 "nbformat": 4,
 "nbformat_minor": 2
}
